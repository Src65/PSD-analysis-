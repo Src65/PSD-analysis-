{
 "cells": [
  {
   "cell_type": "markdown",
   "metadata": {},
   "source": [
    "This script is used to to calculate the organic carbon contribution by diatoms in (ug/ml). There is a for loop that runs all files within a directory. The files but be in the format exported from the particle size distribution script and modified for phytoplankton (add extra document). "
   ]
  },
  {
   "cell_type": "code",
   "execution_count": 12,
   "metadata": {
    "collapsed": true
   },
   "outputs": [],
   "source": [
    "import pandas as pd\n",
    "import numpy as np\n",
    "import glob\n",
    "import csv\n",
    "import os\n",
    "#os.chdir(\"plankton only\")  #change dir if needed"
   ]
  },
  {
   "cell_type": "code",
   "execution_count": 13,
   "metadata": {
    "collapsed": false
   },
   "outputs": [
    {
     "name": "stdout",
     "output_type": "stream",
     "text": [
      "['182_totalParticles.csv', '185_totalParticles.csv', '192_totalParticles.csv', '201_totalParticles.csv', '204_totalParticles.csv', '205_totalParticles.csv', '206_totalParticles.csv', '216_totalParticles.csv', '217_totalParticles.csv', '218_totalParticles.csv', '220_totalParticles.csv', '221_totalParticles.csv', '222_totalParticles.csv', '224_totalParticles.csv', '226_totalParticles.csv', '229_totalParticles.csv', '233_totalParticles.csv', '234_totalParticles.csv', '245_totalParticles.csv', '253_totalParticles.csv', '254_totalParticles.csv', '260_totalParticles.csv', '261_totalParticles.csv', '262_totalParticles.csv', '264_totalParticles.csv', '268_totalParticles.csv', '272_totalParticles.csv', '278_totalParticles.csv', '280_totalParticles.csv', '281_totalParticles.csv', '284_totalParticles.csv', '289_totalParticles.csv', '292_totalParticles.csv', '293_totalParticles.csv', '296_totalParticles.csv', '297_totalParticles.csv', '300_totalParticles.csv', '305_totalParticles.csv', '308_totalParticles.csv', '309_totalParticles.csv', '313_totalParticles.csv', '320_totalParticles.csv', '328_totalParticles.csv', '330_totalParticles.csv', '332_totalParticles.csv', '334_totalParticles.csv', '336_totalParticles.csv', '338_totalParticles.csv', '342_totalParticles.csv', '346_totalParticles.csv', '352_totalParticles.csv', '360_totalParticles.csv', '361_totalParticles.csv', '364_totalParticles.csv', '368_totalParticles.csv', '369_totalParticles.csv', '373_totalParticles.csv', '378_totalParticles.csv', '380_totalParticles.csv', '381_totalParticles.csv', '382_totalParticles.csv', '384_totalParticles.csv', '386_totalParticles.csv', '389_totalParticles.csv', '390_totalParticles.csv', '392_totalParticles.csv', '396_totalParticles.csv', 'all_phyt_C.csv']\n"
     ]
    }
   ],
   "source": [
    "\n",
    "filenames = sorted(glob.glob('*.csv')) # grab all .csv files in directory in order \n",
    "\n",
    "print(filenames)"
   ]
  },
  {
   "cell_type": "code",
   "execution_count": 9,
   "metadata": {
    "collapsed": false
   },
   "outputs": [],
   "source": [
    "\n",
    "allphyt=[] # make empty array \n",
    "\n",
    "for f in filenames: #run for loop for all files in the filenames list\n",
    "    testVC=pd.read_csv(f)\n",
    "    testVC['ESV (um^3)'] = 4/3*np.pi*(testVC['ESD']/2)**3 # translate equivalent spherical diameter to equivalent spherical volume \n",
    "    testVC['C (pg)'] = .216*testVC['ESV (um^3)']**.939 # use Menden-Deuer formula to calculate carbon in pg\n",
    "\n",
    "    cpg = np.array(testVC['C (pg)']) # make new df column\n",
    "\n",
    "    phytoc = [] #make another empy array\n",
    "\n",
    "    for row in testVC['Phyto']: #use a for loop to find all the values \"Centric and Pennate\" within df. Giving them values of 1 else = 0\n",
    "        if row == 'Centric':\n",
    "            phytoc.append('1')\n",
    "        elif row =='Pennate':\n",
    "            phytoc.append('1')\n",
    "        else:\n",
    "            phytoc.append('0')\n",
    "\n",
    "        \n",
    "    testVC['phytoc'] = phytoc # turn the 1s and 0s to a df column \n",
    "    index= (testVC['phytoc'] == '1') #use this as an index \n",
    "\n",
    "    testVC['phytoC'] = testVC['C (pg)'][index]\n",
    "    testVC['phytoC'] = testVC['phytoC'].fillna(0) \n",
    "    sumphytC = sum(testVC['phytoC']) # Sum all diatom carbon (pg)\n",
    "    FOVs = testVC['Images'][1] # number of images used for the assessment \n",
    "    VolumeT = FOVs*3.292 # total volume of all images uL\n",
    "    #here are a list of conversions \n",
    "    pg_uL = sumphytC/VolumeT # pg/uL\n",
    "    pg_L = pg_uL*10**(6)\n",
    "    mg_L = pg_L*10**(-9)\n",
    "    ug_mL = pg_uL*10**(-3)\n",
    "    testVC['phytoC:V (mg/L)'] = mg_L\n",
    "    allphyt.append(ug_mL) # for each file append the C(ug/mL) "
   ]
  },
  {
   "cell_type": "code",
   "execution_count": 10,
   "metadata": {
    "collapsed": false
   },
   "outputs": [],
   "source": [
    "allphytcsv = pd.DataFrame(allphyt) # make the output a single variable \n"
   ]
  },
  {
   "cell_type": "code",
   "execution_count": 11,
   "metadata": {
    "collapsed": false
   },
   "outputs": [
    {
     "name": "stdout",
     "output_type": "stream",
     "text": [
      "           0\n",
      "0   0.012705\n",
      "1   0.014797\n",
      "2   0.001619\n",
      "3   0.020038\n",
      "4   0.001364\n",
      "5   0.033788\n",
      "6   0.066437\n",
      "7   0.000000\n",
      "8   0.000615\n",
      "9   0.047151\n",
      "10  0.017734\n",
      "11  0.000894\n",
      "12  0.153658\n",
      "13  0.009843\n",
      "14  0.001516\n",
      "15  0.002791\n",
      "16  0.240956\n",
      "17  0.030873\n",
      "18  0.107592\n",
      "19  0.011179\n",
      "20  0.058599\n",
      "21  0.019025\n",
      "22  0.008315\n",
      "23  0.064614\n",
      "24  0.091626\n",
      "25  0.270255\n",
      "26  0.016320\n",
      "27  0.075304\n",
      "28  0.012983\n",
      "29  0.001605\n",
      "..       ...\n",
      "37  0.004915\n",
      "38  0.556820\n",
      "39  0.058227\n",
      "40  0.001485\n",
      "41  0.031484\n",
      "42  0.002685\n",
      "43  0.000966\n",
      "44  0.019973\n",
      "45  0.025430\n",
      "46  0.051595\n",
      "47  0.010584\n",
      "48  0.105969\n",
      "49  0.099039\n",
      "50  0.000035\n",
      "51  0.011311\n",
      "52  0.001830\n",
      "53  0.023492\n",
      "54  0.013066\n",
      "55  0.001195\n",
      "56  0.000000\n",
      "57  0.001156\n",
      "58  0.028880\n",
      "59  0.025923\n",
      "60  0.016681\n",
      "61  0.069573\n",
      "62  0.017730\n",
      "63  0.010016\n",
      "64  0.002458\n",
      "65  0.009571\n",
      "66  0.153323\n",
      "\n",
      "[67 rows x 1 columns]\n"
     ]
    }
   ],
   "source": [
    "print(allphytcsv)\n",
    "allphytcsv.to_csv('all_phyt_C.csv')  # save df as csv and know that the order is in order "
   ]
  },
  {
   "cell_type": "code",
   "execution_count": null,
   "metadata": {
    "collapsed": true
   },
   "outputs": [],
   "source": []
  }
 ],
 "metadata": {
  "kernelspec": {
   "display_name": "Python 3",
   "language": "python",
   "name": "python3"
  }
 },
 "nbformat": 4,
 "nbformat_minor": 2
}
