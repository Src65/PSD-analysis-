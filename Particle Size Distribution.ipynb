{
 "cells": [
  {
   "cell_type": "code",
   "execution_count": 120,
   "metadata": {
    "collapsed": false
   },
   "outputs": [
    {
     "ename": "ModuleNotFoundError",
     "evalue": "No module named 'cartopy'",
     "output_type": "error",
     "traceback": [
      "\u001b[0;31m---------------------------------------------------------------------------\u001b[0m",
      "\u001b[0;31mModuleNotFoundError\u001b[0m                       Traceback (most recent call last)",
      "\u001b[0;32m<ipython-input-120-499619ac59b6>\u001b[0m in \u001b[0;36m<module>\u001b[0;34m()\u001b[0m\n\u001b[1;32m      6\u001b[0m \u001b[1;32mimport\u001b[0m \u001b[0mscipy\u001b[0m\u001b[1;33m\u001b[0m\u001b[0m\n\u001b[1;32m      7\u001b[0m \u001b[1;32mimport\u001b[0m \u001b[0mcsv\u001b[0m\u001b[1;33m\u001b[0m\u001b[0m\n\u001b[0;32m----> 8\u001b[0;31m \u001b[1;32mfrom\u001b[0m \u001b[0mcartopy\u001b[0m\u001b[1;33m.\u001b[0m\u001b[0mio\u001b[0m \u001b[1;32mimport\u001b[0m \u001b[0mshapereader\u001b[0m\u001b[1;33m\u001b[0m\u001b[0m\n\u001b[0m",
      "\u001b[0;31mModuleNotFoundError\u001b[0m: No module named 'cartopy'"
     ]
    }
   ],
   "source": [
    "import pandas as pd\n",
    "import numpy as np\n",
    "import glob\n",
    "import matplotlib.pyplot as plt\n",
    "from scipy import stats\n",
    "import scipy\n",
    "import csv\n",
    "from cartopy.io import shapereader "
   ]
  },
  {
   "cell_type": "markdown",
   "metadata": {},
   "source": [
    "# Particle size distribution analysis \n",
    "Steven Cunningham 5/20/2017\n",
    "\n",
    "# Introduction\n",
    "   Hydrodynamic forces within and around kelp beds are influenced by the presence of giant kelp (Macrocystis pyrifera) (Jackson 1983, Graham 2003, Gaylord et al. 2007, Rosman et al. 2007). Drag by Macrocystis through the water column results in only 20-70% of flow from prevailing currents extending into the center of a kelp forest (Gaylord et al. 2007); kelp beds have been shown to reduce the current velocity by nearly a factor of 4 (Jackson 1997, Gaylord et al. 2007, Rosman et al. 2007). Kelp beds, therefore, act similarly to airplane wings, causing flow to increase around the periphery by 200% (Gaylord et al. 2007). The biological implications for such water flow retardation rests on the particulates’ ability to sink, rather than drift, through the water column, which is critical for the feeding of suspension feeders and successful recruitment for a variety of organisms that rely on spore settlement, including Macrocystis itself (Gaylord et al. 2002, Graham 2003). A decrease in turbulent mixing is expected to lead to smaller within-bed fluxes of neutrally buoyant particles like phytoplankton and other POM (Denny & Shibata 1989, Rosman et al. 2010). Nevertheless, few studies have attempted to understand flow dynamics through kelp beds on smaller spatial scales, and the effect of kelp stipe density on flow or transport of particles. \n",
    "    How fluids flow around a cylinder are well known (Meneghini & Saltra 2001, Norberg 2001, Lam et al. 2003). At a certain flow velocity and cylinder diameter, turbulent shedding is created on the down-flow side of the cylinder (reviewed by Denny 1988). Preliminary flume experiments on a 1:45 scale kelp forest show that the M. pyrifera thallus is capable of diverting flow vertically from the benthos. I hypothesize that this turbulent shedding occurs around the stipe bundle of M. pyrifera causing vertical transport of benthic particulates. Understanding this transport mechanism will help explain how the giant kelp supplies and influences POC distribution within kelp forests. I propose to construct artificial kelp to test if particles can be mixed through the water column compared to areas of no kelp. Artificial kelp will be used to reduce the amount of particles produced by sloughing.\n",
    "    "
   ]
  },
  {
   "cell_type": "markdown",
   "metadata": {},
   "source": [
    "# Methods\n",
    "    The study area will be at Stillwater Cove (SWC)(Fig. 1), California. Three sites will be set within three kelp beds. Within each site, two 10m diameter plots will be cleared of kelp and one plot will be seeded with artificial kelp. From a small research vessel water will be pumped through an intake hose passing through a course filter (2mm pore size). The pump will be equipped with 4 intake vinyl hoses that reach 4 zones of the water column at depths of 0m, 2.5m, 5m, and 7.5m. 2L of water will be pumped from each zone and expelled into opaque plastic bottles for each zone for particle analysis. Each site will be sampled once a week for 3 months. \n",
    "     Once at the lab, 50ml of the original sample will be used for particle analysis. This subsample will be placed into a 50ml falcon tube and will be centrifuged at 1.5 x 1000 rev/minute for 20 min, as described in USGS Laboratory Analysis (1987). After the sample has been centrifuged, 45ml of the supernatant will be removed by aspiration and 0.5ml of glutaraldehyde is added as a fixing agent yielding a final concentration of 1:9.09. Particulates will be quantified by Sedgewick Rafter slide and a light microscope at 100x magnification. 20 random fields of view will be imaged, then using ImageJ particle analysis script, particle count and area will be recorded. Using python, I will create a function that will take the sample particle area and plot as a histogram. To characterize this dataset, I will run a regression on the histogram and plot the regression line on the same plot. The slope of this line will be the characteristic to compare against other histograms. For this analysis, only one depth zone (2.3 m)will be analized across treatments. This is due to the fact that not all data has been processed yet and the 2.5 m zone would likely be the least detectable difference. As flow is pushing particles upward, larger particales would not likely been seen closer to the surface as they would fall back when flow relaxes.  \n"
   ]
  },
  {
   "cell_type": "code",
   "execution_count": null,
   "metadata": {
    "collapsed": true
   },
   "outputs": [],
   "source": [
    "#Figure 1: Study site stillwater cove (SWC), CA\n",
    "SWCshp = shapereader.Reader('SWC/CUSPLine.shp') # pull shape file from folder SWC directory. Data pulled from NOAA\n",
    "request = cimgt.GoogleTiles(style=\"satellite\")\n",
    "plt.figure()\n",
    "p=ccrs.PlateCarree()\n",
    "ax=plt.axes(projection=ccrs.Orthographic(-121.93,36.54))\n",
    "extent=(-121.934,-121.954,36.556,36.569)\n",
    "gl = ax.gridlines(crs=ccrs.PlateCarree(), draw_labels=False, alpha=0.35)\n",
    "gl.xlabels_top = False\n",
    "gl.ylabels_left = False\n",
    "\n",
    "gl.xformatter = LONGITUDE_FORMATTER\n",
    "gl.yformatter = LATITUDE_FORMATTER\n",
    "\n",
    "for geometry in SWCshp.geometries():\n",
    "    ax.add_geometries(geometry,p,facecolor ='lightgray', edgecolors='black')#facecolor='white'\n",
    "ax.set_extent(extent)"
   ]
  },
  {
   "cell_type": "markdown",
   "metadata": {},
   "source": [
    "Using the Code below I will test my alternative hypothesis:\n",
    "\n",
    "# HA: There is a difference in vertical particle load in the presence or absence of M. pyrifera stipes. \n",
    "\n",
    "After ImageJ script has been ran on all directories begin using python code below\n"
   ]
  },
  {
   "cell_type": "code",
   "execution_count": null,
   "metadata": {
    "collapsed": true
   },
   "outputs": [],
   "source": [
    "#Define your path to directory with raw particle data\n",
    "path = \"302T/\" "
   ]
  },
  {
   "cell_type": "code",
   "execution_count": 109,
   "metadata": {
    "collapsed": false
   },
   "outputs": [],
   "source": [
    "# for loop that combines all .xls files within path directory. Creates new variable \"all_data\" as .csv \n",
    "# and saves within path directory as \"total_particles\"\n",
    "all_data = pd.DataFrame()\n",
    "for f in glob.glob(path+'\\*.xls'): #you may need to change \\ -> / if on mac\n",
    "    df = pd.read_csv(f,sep='\\s+') #you may need to change \\ -> / if on mac\n",
    "    all_data = all_data.append(df,ignore_index=True) \n",
    "    \n",
    "all_data.to_csv(path+'/total_particles.csv')"
   ]
  },
  {
   "cell_type": "code",
   "execution_count": 110,
   "metadata": {
    "collapsed": true
   },
   "outputs": [],
   "source": [
    "# Read new total_particle.csv and define variable \"area\" \n",
    "file= path+'/total_particles.csv'\n",
    "df = pd.read_csv(file,header=0)\n",
    "area=df['Area']\n",
    "\n",
    "# transform surface area to equivalent spherical diameter (ESD)\n",
    "ESD = (2*(area/np.pi)**.5) "
   ]
  },
  {
   "cell_type": "code",
   "execution_count": 111,
   "metadata": {
    "collapsed": true
   },
   "outputs": [],
   "source": [
    "# define bins (how many, width, and center). Code in this cell modified from Colleen Durkin. \n",
    "\n",
    "bins = []\n",
    "for x in np.arange(1.5,10,.5):\n",
    "    bin = 2**x\n",
    "    bins.append(bin)\n",
    "\n",
    "bin_mids = []\n",
    "for y in np.arange(0,len(bins)-1):\n",
    "    mid = bins[y] + (bins[y+1]-bins[y])/2\n",
    "    bin_mids.append(mid)\n",
    "\n",
    "bin_width = []\n",
    "for z in np.arange(0,len(bins)-1):\n",
    "    width = (bins[z+1]-bins[z])\n",
    "    bin_width.append(width)"
   ]
  },
  {
   "cell_type": "code",
   "execution_count": 112,
   "metadata": {
    "collapsed": true
   },
   "outputs": [],
   "source": [
    "# Use numpy histgram to sort particle counts into size class bins. This sorted data is then normalized by bin width. \n",
    "\n",
    "histogram=np.histogram(ESD,bins=bins,range=None, normed=False, weights=None, density=None) \n",
    "n=(histogram[0]/bin_width)*10 #normalized added *10 so no negatives after log transform this will be corrected when count/ml"
   ]
  },
  {
   "cell_type": "code",
   "execution_count": 113,
   "metadata": {
    "collapsed": true
   },
   "outputs": [],
   "source": [
    "# get rid of bins with no data\n",
    "\n",
    "bin_mids_array=np.asarray(bin_mids) # change bin_mids from tuple to array so can be indexed\n",
    "ii=np.where(n>0) # index to remove zero data\n",
    "bin_mids_nonzero=bin_mids_array[ii] # only bins with data\n",
    "n_nozero=n[ii] # no zero values"
   ]
  },
  {
   "cell_type": "code",
   "execution_count": 114,
   "metadata": {
    "collapsed": true
   },
   "outputs": [],
   "source": [
    "# PSD function will be used in max.min to calculate differences in estimated power equation from real data\n",
    "\n",
    "def PSD (var, bin_mid, normalized): #var is in format of [#,#], normilized = my n\n",
    "    normalized_n = normalized#[normalized>0]\n",
    "    bin_center = bin_mids_nonzero # figure this line out\n",
    "    Y = (10**var[0])*bin_mids_nonzero**var[1]\n",
    "    difference = np.sum((np.log(Y)- np.log(n_nozero))**2)\n",
    "    return difference "
   ]
  },
  {
   "cell_type": "code",
   "execution_count": 115,
   "metadata": {
    "collapsed": false
   },
   "outputs": [],
   "source": [
    "# optimize the power equation fit using PSD function. Output is variables A and B in equation y = A(x)^B\n",
    "\n",
    "maxmin=scipy.optimize.minimize(PSD, [1, -3], args= (bin_mids, n)) # then use these to plot y= over hist with estimates of [1,-3]\n"
   ]
  },
  {
   "cell_type": "code",
   "execution_count": 116,
   "metadata": {
    "collapsed": false
   },
   "outputs": [
    {
     "data": {
      "image/png": "[encoded data removed]",
      "text/plain": [
       "<matplotlib.figure.Figure at 0x65ab320>"
      ]
     },
     "metadata": {},
     "output_type": "display_data"
    }
   ],
   "source": [
    "# Figure 2 log-log plot of particle counts vs equivalent spherical diameter (um)\n",
    "plt.figure()\n",
    "plt.scatter(bin_mids_nonzero, n_nozero)\n",
    "plt.plot(bin_mids_nonzero,(10**maxmin['x'][0])*bin_mids_nonzero**(maxmin['x'][1])) #this is where you add in variable x from optimize.min result \n",
    "plt.xlabel('Equivalent Spherical Diameter (ESD) $um$', fontsize=10 )\n",
    "plt.ylabel('# of particles', fontsize=10)\n",
    "plt.title('Particle Size Distribution (PSD)', fontsize=20)\n",
    "#plt.text(300,40, 'n='+total_count,verticalalignment='bottom', horizontalalignment='left',color='black', fontsize=10)\n",
    "plt.yscale('log')\n",
    "plt.xscale('log')\n",
    "plt.axis([1,1000,.1,1000])\n",
    "plt.savefig(path+'plot')\n",
    "plt.show()"
   ]
  },
  {
   "cell_type": "code",
   "execution_count": 117,
   "metadata": {
    "collapsed": false
   },
   "outputs": [],
   "source": [
    "# add slope and intercept for power eqution to main data file \n",
    "df.head()\n",
    "df['Intercept'] = maxmin['x'][0]\n",
    "df['slope'] = maxmin['x'][1]\n",
    "df.to_csv(path+'/total_particles.csv')"
   ]
  },
  {
   "cell_type": "markdown",
   "metadata": {},
   "source": [
    "Now all slopes of PSD are calculated and saved as file (total_particles) within the corresponding directory. Now pull all slopes from files and combine for each treatment. "
   ]
  },
  {
   "cell_type": "code",
   "execution_count": null,
   "metadata": {
    "collapsed": true
   },
   "outputs": [],
   "source": [
    "#locate all total particle files for treatment 1 (Artificial)\n",
    "file1 = \"254A/total_particles.csv\" \n",
    "file2 = \"254AA/total_particles.csv\"\n",
    "file3 = \"306A/total_particles.csv\"\n",
    "dfa1 = pd.read_csv(file1,header=0)\n",
    "dfa2 = pd.read_csv(file2,header=0)\n",
    "dfa3 = pd.read_csv(file3,header=0)\n",
    "slope_artificial1=dfa1['slope'][1]\n",
    "slope_artificial2=dfa2['slope'][1]\n",
    "slope_artificial3=dfa3['slope'][1]\n",
    "Artificial=[slope_artificial1,slope_artificial2,slope_artificial3]"
   ]
  },
  {
   "cell_type": "code",
   "execution_count": null,
   "metadata": {
    "collapsed": true
   },
   "outputs": [],
   "source": [
    "#locate all total particle files for treatment 2 (Control)\n",
    "filec1 = \"318C/total_particles.csv\"\n",
    "filec2 = \"294C/total_particles.csv\"\n",
    "filec3 = \"296C/total_particles.csv\"\n",
    "dfc1 = pd.read_csv(filec1,header=0)\n",
    "dfc2 = pd.read_csv(filec2,header=0)\n",
    "dfc3 = pd.read_csv(filec2,header=0)\n",
    "slope_control1=dfc1['slope'][1]\n",
    "slope_control2=dfc2['slope'][1]\n",
    "slope_control3=dfc3['slope'][1]\n",
    "Kelp=[slope_control1,slope_control2,slope_control3]"
   ]
  },
  {
   "cell_type": "code",
   "execution_count": null,
   "metadata": {
    "collapsed": true
   },
   "outputs": [],
   "source": [
    "#locate all total particle files for treatment 3 (Clearings)\n",
    "filet1 = \"298T/total_particles.csv\"\n",
    "filet2 = \"302T/total_particles.csv\"\n",
    "filet3 = \"322T/total_particles.csv\"\n",
    "dft1 = pd.read_csv(filet1,header=0)\n",
    "dft2 = pd.read_csv(filet2,header=0)\n",
    "dft3 = pd.read_csv(filet3,header=0)\n",
    "slope_clear1=dft1['slope'][1]\n",
    "slope_clear2=dft2['slope'][1]\n",
    "slope_clear3=dft3['slope'][1]\n",
    "Clearing=[slope_clear1,slope_clear2,slope_clear3]"
   ]
  },
  {
   "cell_type": "code",
   "execution_count": null,
   "metadata": {
    "collapsed": true
   },
   "outputs": [],
   "source": [
    "# run a one-way ANOVA \n",
    "scipy.stats.f_oneway(Clearing,Kelp,Artificial) #gives the F-stat and P-value "
   ]
  },
  {
   "cell_type": "markdown",
   "metadata": {},
   "source": [
    "# Results\n",
    "\n",
    "\tAll particle size densities (PSD) were plotted on log-log plot for each treatment at depth 2.5 m (Fig. 2). Once all PSD slopes were obtained the following code pulled slopes from generated tables in each directory. A one way analysis of variance (ANOVA) showed no difference in PSD between treatments (F = 1.94, p = 0.22). There is no need to run any post hoc tests as the results were not significant. \n"
   ]
  },
  {
   "cell_type": "markdown",
   "metadata": {},
   "source": [
    "# Discussion \n",
    "\n",
    "\tThere was no difference in PSD at depth zone (2.5 m) between plots. However, this analysis needs to be carried out for all depths. It is possible that vertical transport of particles occurs, but not that far. Testing depth zone (5 m) samples possibly might have a greater difference in PSD than 2.5 m. Other factors that need to be accounted for in the model are water motion on the days that the samples were taken. If the fluid velocity is what moves the particles vertically, then on calm days there would be no re-suspension of particles.  These factors would be current velocity, wave energy, and wave orbital size. \n"
   ]
  }
 ],
 "metadata": {
  "kernelspec": {
   "display_name": "Python 3",
   "language": "python",
   "name": "python3"
  },
  "language_info": {
   "codemirror_mode": {
    "name": "ipython",
    "version": 3
   },
   "file_extension": ".py",
   "mimetype": "text/x-python",
   "name": "python",
   "nbconvert_exporter": "python",
   "pygments_lexer": "ipython3",
   "version": "3.6.0"
  }
 },
 "nbformat": 4,
 "nbformat_minor": 2
}
