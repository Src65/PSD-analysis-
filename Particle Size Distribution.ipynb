{
 "cells": [
  {
   "cell_type": "code",
   "execution_count": 1,
   "metadata": {
    "collapsed": true
   },
   "outputs": [],
   "source": [
    "import pandas as pd\n",
    "import numpy as np\n",
    "import glob\n",
    "import matplotlib.pyplot as plt\n",
    "from scipy import stats\n",
    "import scipy"
   ]
  },
  {
   "cell_type": "code",
   "execution_count": 2,
   "metadata": {
    "collapsed": true
   },
   "outputs": [],
   "source": [
    "#Define your path to directory with raw particle data\n",
    "path = \"\" "
   ]
  },
  {
   "cell_type": "code",
   "execution_count": null,
   "metadata": {
    "collapsed": true
   },
   "outputs": [],
   "source": [
    "# for loop that combines all .xls files within path directory. Creates new variable \"all_data\" as .csv \n",
    "# and saves within path directory as \"total_particles\"\n",
    "all_data = pd.DataFrame()\n",
    "for f in glob.glob(path+'\\*.xls'):\n",
    "    df = pd.read_csv(f,sep='\\s+')\n",
    "    all_data = all_data.append(df,ignore_index=True) \n",
    "    \n",
    "all_data.to_csv(path+'/total_particles.csv')"
   ]
  },
  {
   "cell_type": "code",
   "execution_count": null,
   "metadata": {
    "collapsed": true
   },
   "outputs": [],
   "source": [
    "# Read new total_particle.csv and define variable \"area\" \n",
    "file= path+'/total_particles.csv'\n",
    "df = pd.read_csv(file,header=0)\n",
    "area=df['Area']\n",
    "\n",
    "# transform surface area to equivalent spherical diameter (ESD)\n",
    "ESD = (2*(area/np.pi)**.5) "
   ]
  },
  {
   "cell_type": "code",
   "execution_count": null,
   "metadata": {
    "collapsed": true
   },
   "outputs": [],
   "source": [
    "# define bins (how many, width, and center). Code in this cell modified from Colleen Durkin. \n",
    "\n",
    "bins = []\n",
    "for x in np.arange(1.5,10,.5):\n",
    "    bin = 2**x\n",
    "    bins.append(bin)\n",
    "\n",
    "bin_mids = []\n",
    "for y in np.arange(0,len(bins)-1):\n",
    "    mid = bins[y] + (bins[y+1]-bins[y])/2\n",
    "    bin_mids.append(mid)\n",
    "\n",
    "bin_width = []\n",
    "for z in np.arange(0,len(bins)-1):\n",
    "    width = (bins[z+1]-bins[z])\n",
    "    bin_width.append(width)"
   ]
  },
  {
   "cell_type": "code",
   "execution_count": null,
   "metadata": {
    "collapsed": true
   },
   "outputs": [],
   "source": [
    "# Use numpy histgram to sort particle counts into size class bins. This sorted data is then normalized by bin width. \n",
    "\n",
    "histogram=np.histogram(ESD,bins=bins,range=None, normed=False, weights=None, density=None) \n",
    "n=(histogram[0]/bin_width)*10 #normalized added *10 so no negatives after log transform this will be corrected when count/ml"
   ]
  },
  {
   "cell_type": "code",
   "execution_count": null,
   "metadata": {
    "collapsed": true
   },
   "outputs": [],
   "source": [
    "# get rid of bins with no data\n",
    "\n",
    "bin_mids_array=np.asarray(bin_mids) # change bin_mids from tuple to array so can be indexed\n",
    "ii=np.where(n>0) # index to remove zero data\n",
    "bin_mids_nonzero=bin_mids_array[ii] # only bins with data\n",
    "n_nozero=n[ii] # no zero values"
   ]
  },
  {
   "cell_type": "code",
   "execution_count": null,
   "metadata": {
    "collapsed": true
   },
   "outputs": [],
   "source": [
    "# PSD function will be used in max.min to calculate differences in estimated power equation from real data\n",
    "\n",
    "def PSD (var, bin_mid, normalized): #var is in format of [#,#], normilized = my n\n",
    "    normalized_n = normalized#[normalized>0]\n",
    "    bin_center = bin_mids_nonzero # figure this line out\n",
    "    Y = (10**var[0])*bin_mids_nonzero**var[1]\n",
    "    difference = np.sum((np.log(Y)- np.log(n_nozero))**2)\n",
    "    return difference "
   ]
  },
  {
   "cell_type": "code",
   "execution_count": null,
   "metadata": {
    "collapsed": true
   },
   "outputs": [],
   "source": [
    "# optimize the power equation fit using PSD function. Output is variables A and B in equation y = A(x)^B\n",
    "\n",
    "scipy.optimize.minimize(PSD, [1, -3], args= (bin_mids, n)) # then use these to plot y= over hist with estimates of [1,-3]"
   ]
  },
  {
   "cell_type": "code",
   "execution_count": null,
   "metadata": {
    "collapsed": true
   },
   "outputs": [],
   "source": [
    "plt.figure()\n",
    "plt.scatter(bin_mids, n)\n",
    "plt.plot((10**3.77)*bin_mids_nonzero**(-2.18)) #this is where you add in variable x from optimize.min result \n",
    "plt.xlabel('Equivalent Spherical Diameter (ESD) $um$', fontsize=10 )\n",
    "plt.ylabel('# of particles', fontsize=10)\n",
    "plt.title('Particle Size Distribution (PSD)', fontsize=20)\n",
    "#plt.text(300,40, 'n='+total_count,verticalalignment='bottom', horizontalalignment='left',color='black', fontsize=10)\n",
    "plt.yscale('log')\n",
    "plt.xscale('log')\n",
    "plt.axis([1,1000,.1,1000])\n",
    "plt.show()"
   ]
  }
 ],
 "metadata": {
  "kernelspec": {
   "display_name": "Python 3",
   "language": "python",
   "name": "python3"
  },
  "language_info": {
   "codemirror_mode": {
    "name": "ipython",
    "version": 3
   },
   "file_extension": ".py",
   "mimetype": "text/x-python",
   "name": "python",
   "nbconvert_exporter": "python",
   "pygments_lexer": "ipython3",
   "version": "3.6.0"
  }
 },
 "nbformat": 4,
 "nbformat_minor": 2
}
