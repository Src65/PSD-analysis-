{
 "cells": [
  {
   "cell_type": "code",
   "execution_count": 222,
   "metadata": {
    "collapsed": true
   },
   "outputs": [],
   "source": [
    "import pandas as pd\n",
    "import numpy as np\n",
    "import glob\n",
    "import matplotlib.pyplot as plt\n",
    "from scipy import stats\n",
    "import scipy\n",
    "import csv"
   ]
  },
  {
   "cell_type": "code",
   "execution_count": 223,
   "metadata": {
    "collapsed": true
   },
   "outputs": [],
   "source": [
    "#Define your path to directory with raw particle data\n",
    "path = \"017\" "
   ]
  },
  {
   "cell_type": "code",
   "execution_count": 224,
   "metadata": {
    "collapsed": false
   },
   "outputs": [],
   "source": [
    "# for loop that combines all .xls files within path directory. Creates new variable \"all_data\" as .csv \n",
    "# and saves within path directory as \"total_particles\"\n",
    "all_data = pd.DataFrame()\n",
    "for f in glob.glob(path+'\\*.xls'): #you may need to change \\ -> / if on mac\n",
    "    df = pd.read_csv(f,sep='\\s+') #you may need to change \\ -> / if on mac\n",
    "    df['fileName'] = f[4:11]\n",
    "    df['ParticleNumber'] = range(len(df)+1)[1:] # add particle number for matching up plankton\n",
    "    \n",
    "    all_data = all_data.append(df,ignore_index=True) \n",
    "    \n",
    "\n",
    "all_data.to_csv(path+'/total_particles.csv')"
   ]
  },
  {
   "cell_type": "code",
   "execution_count": 225,
   "metadata": {
    "collapsed": false
   },
   "outputs": [
    {
     "name": "stdout",
     "output_type": "stream",
     "text": [
      "41\n"
     ]
    }
   ],
   "source": [
    "# Read new total_particle.csv and define variable \"area\" \n",
    "file= path+'/total_particles.csv'\n",
    "df = pd.read_csv(file,header=0)\n",
    "area=df['Area']\n",
    "TP = len(area)\n",
    "print(TP)\n",
    "\n",
    "# transform surface area to equivalent spherical diameter (ESD)\n",
    "ESD = (2*(area/np.pi)**.5) \n"
   ]
  },
  {
   "cell_type": "code",
   "execution_count": 226,
   "metadata": {
    "collapsed": true
   },
   "outputs": [],
   "source": [
    "# define bins (how many, width, and center). Code in this cell modified from Colleen Durkin. \n",
    "\n",
    "bins = []\n",
    "for x in np.arange(2,10,.5):  #This was 1.5,10,.5\n",
    "    bin = 2**x\n",
    "    bins.append(bin)\n",
    "\n",
    "bin_mids = []\n",
    "for y in np.arange(0,len(bins)-1):\n",
    "    mid = bins[y] + (bins[y+1]-bins[y])/2\n",
    "    bin_mids.append(mid)\n",
    "\n",
    "bin_width = []\n",
    "for z in np.arange(0,len(bins)-1):\n",
    "    width = (bins[z+1]-bins[z])\n",
    "    bin_width.append(width)"
   ]
  },
  {
   "cell_type": "code",
   "execution_count": 227,
   "metadata": {
    "collapsed": false
   },
   "outputs": [],
   "source": [
    "# Use numpy histgram to sort particle counts into size class bins. This sorted data is then normalized by bin width. \n",
    "\n",
    "histogram=np.histogram(ESD,bins=bins,range=None, normed=False, weights=None, density=None) \n",
    "n=((histogram[0]*30.376)/bin_width)*10 #normalized multiplied counts by (30.376) to represent particles/1mL\n"
   ]
  },
  {
   "cell_type": "code",
   "execution_count": 228,
   "metadata": {
    "collapsed": true
   },
   "outputs": [],
   "source": [
    "# get rid of bins with no data\n",
    "\n",
    "bin_mids_array=np.asarray(bin_mids) # change bin_mids from tuple to array so can be indexed\n",
    "ii=np.where(n>0) # index to remove zero data\n",
    "bin_mids_nonzero=bin_mids_array[ii] # only bins with data\n",
    "n_nozero=n[ii] # no zero values"
   ]
  },
  {
   "cell_type": "code",
   "execution_count": 229,
   "metadata": {
    "collapsed": true
   },
   "outputs": [],
   "source": [
    "# PSD function will be used in max.min to calculate differences in estimated power equation from real data\n",
    "\n",
    "def PSD (var, bin_mid, normalized): #var is in format of [#,#], normilized = my n\n",
    "    normalized_n = normalized#[normalized>0]\n",
    "    bin_center = bin_mids_nonzero # figure this line out\n",
    "    Y = (10**var[0])*bin_mids_nonzero**var[1]\n",
    "    difference = np.sum((np.log(Y)- np.log(n_nozero))**2)\n",
    "    return difference "
   ]
  },
  {
   "cell_type": "code",
   "execution_count": 230,
   "metadata": {
    "collapsed": false
   },
   "outputs": [
    {
     "name": "stdout",
     "output_type": "stream",
     "text": [
      "3.86 -1.51\n"
     ]
    }
   ],
   "source": [
    "# optimize the power equation fit using PSD function. Output is variables A and B in equation y = A(x)^B\n",
    "\n",
    "maxmin=scipy.optimize.minimize(PSD, [1, -3], args= (bin_mids, n)) # then use these to plot y= over hist with estimates of [1,-3]\n",
    "intercept = np.round(maxmin['x'][0],2)\n",
    "slope = np.round(maxmin['x'][1],2)\n",
    "print(intercept, slope)"
   ]
  },
  {
   "cell_type": "code",
   "execution_count": 231,
   "metadata": {
    "collapsed": false
   },
   "outputs": [
    {
     "data": {
      "image/png": "[encoded data removed]",
      "text/plain": [
       "<matplotlib.figure.Figure at 0x6df75de1d0>"
      ]
     },
     "metadata": {},
     "output_type": "display_data"
    }
   ],
   "source": [
    "plt.figure()\n",
    "plt.scatter(bin_mids_nonzero, n_nozero)\n",
    "plt.plot(bin_mids_nonzero,(10**maxmin['x'][0])*bin_mids_nonzero**(maxmin['x'][1])) #this is where you add in variable x from optimize.min result \n",
    "plt.xlabel('Equivalent Spherical Diameter (ESD) $um$', fontsize=12 )\n",
    "plt.ylabel('Particles /$mL$', fontsize=12)\n",
    "plt.title('Particle Size Distribution (PSD)', fontsize=20)\n",
    "plt.text(20,10000,'n = %s \\ny = %s$x^{%s}$ '%(TP, intercept, slope), fontsize = 12)\n",
    "plt.yscale('log')\n",
    "plt.xscale('log')\n",
    "plt.axis([1,100,10,100000])\n",
    "plt.tight_layout()\n",
    "plt.savefig(path+'PSDplot')\n",
    "plt.show()"
   ]
  },
  {
   "cell_type": "code",
   "execution_count": 232,
   "metadata": {
    "collapsed": false
   },
   "outputs": [
    {
     "name": "stdout",
     "output_type": "stream",
     "text": [
      "['Unnamed: 0', 'Area', 'Mean', 'Min', 'Max', 'fileName', 'ParticleNumber', 'Intercept', 'Slope', 'Total', 'Images', 'ESD', 'AverageArea', 'TotalArea', 'TotalESD', 'AverageESD']\n"
     ]
    }
   ],
   "source": [
    "# add slope and intercept for power eqution, and total particle counts to main data file \n",
    "\n",
    "df['Intercept'] = maxmin['x'][0]\n",
    "df['Slope'] = maxmin['x'][1]\n",
    "df['Total']= TP\n",
    "df['Images'] = len(glob.glob(path+'\\*.xls'))\n",
    "df['ESD'] = ESD\n",
    "df['AverageArea'] = sum(df['Area'])/df['Total'][1]\n",
    "df['TotalArea'] = sum(df['Area'])\n",
    "df['TotalESD'] = sum(df['ESD'])\n",
    "df['AverageESD'] = sum(df['ESD'])/df['Total'][1]\n",
    "cols = list(df.columns.values)\n",
    "print(cols)\n",
    "df = df[['fileName', 'Area', 'ESD','fileName', 'ParticleNumber', 'Intercept', 'Slope', 'Total', 'Images', 'TotalArea', 'AverageArea', 'AverageESD', 'TotalESD']]\n"
   ]
  },
  {
   "cell_type": "code",
   "execution_count": 233,
   "metadata": {
    "collapsed": false
   },
   "outputs": [
    {
     "data": {
      "text/html": [
       "<div>\n",
       "<table border=\"1\" class=\"dataframe\">\n",
       "  <thead>\n",
       "    <tr style=\"text-align: right;\">\n",
       "      <th></th>\n",
       "      <th>fileName</th>\n",
       "      <th>Area</th>\n",
       "      <th>ESD</th>\n",
       "      <th>fileName</th>\n",
       "      <th>ParticleNumber</th>\n",
       "      <th>Intercept</th>\n",
       "      <th>Slope</th>\n",
       "      <th>Total</th>\n",
       "      <th>Images</th>\n",
       "      <th>TotalArea</th>\n",
       "      <th>AverageArea</th>\n",
       "      <th>AverageESD</th>\n",
       "      <th>TotalESD</th>\n",
       "    </tr>\n",
       "  </thead>\n",
       "  <tbody>\n",
       "    <tr>\n",
       "      <th>0</th>\n",
       "      <td>017-001</td>\n",
       "      <td>92.670</td>\n",
       "      <td>10.862371</td>\n",
       "      <td>017-001</td>\n",
       "      <td>1</td>\n",
       "      <td>3.860816</td>\n",
       "      <td>-1.507588</td>\n",
       "      <td>41</td>\n",
       "      <td>18</td>\n",
       "      <td>8192.416</td>\n",
       "      <td>199.815024</td>\n",
       "      <td>8.101025</td>\n",
       "      <td>332.142008</td>\n",
       "    </tr>\n",
       "    <tr>\n",
       "      <th>1</th>\n",
       "      <td>017-001</td>\n",
       "      <td>322.782</td>\n",
       "      <td>20.272612</td>\n",
       "      <td>017-001</td>\n",
       "      <td>2</td>\n",
       "      <td>3.860816</td>\n",
       "      <td>-1.507588</td>\n",
       "      <td>41</td>\n",
       "      <td>18</td>\n",
       "      <td>8192.416</td>\n",
       "      <td>199.815024</td>\n",
       "      <td>8.101025</td>\n",
       "      <td>332.142008</td>\n",
       "    </tr>\n",
       "    <tr>\n",
       "      <th>2</th>\n",
       "      <td>017-002</td>\n",
       "      <td>83.299</td>\n",
       "      <td>10.298523</td>\n",
       "      <td>017-002</td>\n",
       "      <td>1</td>\n",
       "      <td>3.860816</td>\n",
       "      <td>-1.507588</td>\n",
       "      <td>41</td>\n",
       "      <td>18</td>\n",
       "      <td>8192.416</td>\n",
       "      <td>199.815024</td>\n",
       "      <td>8.101025</td>\n",
       "      <td>332.142008</td>\n",
       "    </tr>\n",
       "    <tr>\n",
       "      <th>3</th>\n",
       "      <td>017-002</td>\n",
       "      <td>4.165</td>\n",
       "      <td>2.302834</td>\n",
       "      <td>017-002</td>\n",
       "      <td>2</td>\n",
       "      <td>3.860816</td>\n",
       "      <td>-1.507588</td>\n",
       "      <td>41</td>\n",
       "      <td>18</td>\n",
       "      <td>8192.416</td>\n",
       "      <td>199.815024</td>\n",
       "      <td>8.101025</td>\n",
       "      <td>332.142008</td>\n",
       "    </tr>\n",
       "    <tr>\n",
       "      <th>4</th>\n",
       "      <td>017-002</td>\n",
       "      <td>193.669</td>\n",
       "      <td>15.703090</td>\n",
       "      <td>017-002</td>\n",
       "      <td>3</td>\n",
       "      <td>3.860816</td>\n",
       "      <td>-1.507588</td>\n",
       "      <td>41</td>\n",
       "      <td>18</td>\n",
       "      <td>8192.416</td>\n",
       "      <td>199.815024</td>\n",
       "      <td>8.101025</td>\n",
       "      <td>332.142008</td>\n",
       "    </tr>\n",
       "  </tbody>\n",
       "</table>\n",
       "</div>"
      ],
      "text/plain": [
       "  fileName     Area        ESD fileName  ParticleNumber  Intercept     Slope  \\\n",
       "0  017-001   92.670  10.862371  017-001               1   3.860816 -1.507588   \n",
       "1  017-001  322.782  20.272612  017-001               2   3.860816 -1.507588   \n",
       "2  017-002   83.299  10.298523  017-002               1   3.860816 -1.507588   \n",
       "3  017-002    4.165   2.302834  017-002               2   3.860816 -1.507588   \n",
       "4  017-002  193.669  15.703090  017-002               3   3.860816 -1.507588   \n",
       "\n",
       "   Total  Images  TotalArea  AverageArea  AverageESD    TotalESD  \n",
       "0     41      18   8192.416   199.815024    8.101025  332.142008  \n",
       "1     41      18   8192.416   199.815024    8.101025  332.142008  \n",
       "2     41      18   8192.416   199.815024    8.101025  332.142008  \n",
       "3     41      18   8192.416   199.815024    8.101025  332.142008  \n",
       "4     41      18   8192.416   199.815024    8.101025  332.142008  "
      ]
     },
     "execution_count": 233,
     "metadata": {},
     "output_type": "execute_result"
    }
   ],
   "source": [
    "df.head()\n"
   ]
  },
  {
   "cell_type": "code",
   "execution_count": 234,
   "metadata": {
    "collapsed": false
   },
   "outputs": [],
   "source": [
    "savefile = \"%s_%s.csv\" % (path, 'totalParticles')\n",
    "\n",
    "df.to_csv(savefile) #add name conv\n"
   ]
  },
  {
   "cell_type": "code",
   "execution_count": null,
   "metadata": {
    "collapsed": false
   },
   "outputs": [],
   "source": []
  },
  {
   "cell_type": "code",
   "execution_count": null,
   "metadata": {
    "collapsed": true
   },
   "outputs": [],
   "source": []
  }
 ],
 "metadata": {
  "kernelspec": {
   "display_name": "Python 3",
   "language": "python",
   "name": "python3"
  }
 },
 "nbformat": 4,
 "nbformat_minor": 2
}
