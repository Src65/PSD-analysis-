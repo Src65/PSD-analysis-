{
 "cells": [
  {
   "cell_type": "code",
   "execution_count": 144,
   "metadata": {
    "collapsed": true
   },
   "outputs": [],
   "source": [
    "import pandas as pd\n",
    "import numpy as np\n",
    "import glob\n",
    "import matplotlib.pyplot as plt\n",
    "from scipy import stats\n",
    "import scipy\n",
    "import csv"
   ]
  },
  {
   "cell_type": "code",
   "execution_count": 145,
   "metadata": {
    "collapsed": true
   },
   "outputs": [],
   "source": [
    "#Define your path to directory with raw particle data\n",
    "path = \"particle_data293/\" "
   ]
  },
  {
   "cell_type": "code",
   "execution_count": 146,
   "metadata": {
    "collapsed": false
   },
   "outputs": [],
   "source": [
    "# for loop that combines all .xls files within path directory. Creates new variable \"all_data\" as .csv \n",
    "# and saves within path directory as \"total_particles\"\n",
    "all_data = pd.DataFrame()\n",
    "for f in glob.glob(path+'\\*.xls'): #you may need to change \\ -> / if on mac\n",
    "    df = pd.read_csv(f,sep='\\s+') #you may need to change \\ -> / if on mac\n",
    "    all_data = all_data.append(df,ignore_index=True) \n",
    "    \n",
    "all_data.to_csv(path+'/total_particles.csv')"
   ]
  },
  {
   "cell_type": "code",
   "execution_count": 147,
   "metadata": {
    "collapsed": false
   },
   "outputs": [
    {
     "name": "stdout",
     "output_type": "stream",
     "text": [
      "228\n"
     ]
    }
   ],
   "source": [
    "# Read new total_particle.csv and define variable \"area\" \n",
    "file= path+'/total_particles.csv'\n",
    "df = pd.read_csv(file,header=0)\n",
    "area=df['Area']\n",
    "TP = len(area)\n",
    "print(TP)\n",
    "\n",
    "# transform surface area to equivalent spherical diameter (ESD)\n",
    "ESD = (2*(area/np.pi)**.5) "
   ]
  },
  {
   "cell_type": "code",
   "execution_count": 163,
   "metadata": {
    "collapsed": true
   },
   "outputs": [],
   "source": [
    "# define bins (how many, width, and center). Code in this cell modified from Colleen Durkin. \n",
    "\n",
    "bins = []\n",
    "for x in np.arange(2,10,.5):  #This was 1.5,10,.5\n",
    "    bin = 2**x\n",
    "    bins.append(bin)\n",
    "\n",
    "bin_mids = []\n",
    "for y in np.arange(0,len(bins)-1):\n",
    "    mid = bins[y] + (bins[y+1]-bins[y])/2\n",
    "    bin_mids.append(mid)\n",
    "\n",
    "bin_width = []\n",
    "for z in np.arange(0,len(bins)-1):\n",
    "    width = (bins[z+1]-bins[z])\n",
    "    bin_width.append(width)"
   ]
  },
  {
   "cell_type": "code",
   "execution_count": 164,
   "metadata": {
    "collapsed": false
   },
   "outputs": [],
   "source": [
    "# Use numpy histgram to sort particle counts into size class bins. This sorted data is then normalized by bin width. \n",
    "\n",
    "histogram=np.histogram(ESD,bins=bins,range=None, normed=False, weights=None, density=None) \n",
    "n=((histogram[0]*30.376)/bin_width)*10 #normalized multiplied counts by (30.376) to represent particles/1mL\n"
   ]
  },
  {
   "cell_type": "code",
   "execution_count": 165,
   "metadata": {
    "collapsed": true
   },
   "outputs": [],
   "source": [
    "# get rid of bins with no data\n",
    "\n",
    "bin_mids_array=np.asarray(bin_mids) # change bin_mids from tuple to array so can be indexed\n",
    "ii=np.where(n>0) # index to remove zero data\n",
    "bin_mids_nonzero=bin_mids_array[ii] # only bins with data\n",
    "n_nozero=n[ii] # no zero values"
   ]
  },
  {
   "cell_type": "code",
   "execution_count": 166,
   "metadata": {
    "collapsed": true
   },
   "outputs": [],
   "source": [
    "# PSD function will be used in max.min to calculate differences in estimated power equation from real data\n",
    "\n",
    "def PSD (var, bin_mid, normalized): #var is in format of [#,#], normilized = my n\n",
    "    normalized_n = normalized#[normalized>0]\n",
    "    bin_center = bin_mids_nonzero # figure this line out\n",
    "    Y = (10**var[0])*bin_mids_nonzero**var[1]\n",
    "    difference = np.sum((np.log(Y)- np.log(n_nozero))**2)\n",
    "    return difference "
   ]
  },
  {
   "cell_type": "code",
   "execution_count": 167,
   "metadata": {
    "collapsed": false
   },
   "outputs": [
    {
     "name": "stdout",
     "output_type": "stream",
     "text": [
      "5.57 -2.41\n"
     ]
    }
   ],
   "source": [
    "# optimize the power equation fit using PSD function. Output is variables A and B in equation y = A(x)^B\n",
    "\n",
    "maxmin=scipy.optimize.minimize(PSD, [1, -3], args= (bin_mids, n)) # then use these to plot y= over hist with estimates of [1,-3]\n",
    "intercept = np.round(maxmin['x'][0],2)\n",
    "slope = np.round(maxmin['x'][1],2)\n",
    "print(intercept, slope)"
   ]
  },
  {
   "cell_type": "code",
   "execution_count": 172,
   "metadata": {
    "collapsed": false
   },
   "outputs": [
    {
     "data": {
      "image/png": "[encoded data removed]",
      "text/plain": [
       "<matplotlib.figure.Figure at 0x1c8b8c65c0>"
      ]
     },
     "metadata": {},
     "output_type": "display_data"
    }
   ],
   "source": [
    "plt.figure()\n",
    "plt.scatter(bin_mids_nonzero, n_nozero)\n",
    "plt.plot(bin_mids_nonzero,(10**maxmin['x'][0])*bin_mids_nonzero**(maxmin['x'][1])) #this is where you add in variable x from optimize.min result \n",
    "plt.xlabel('Equivalent Spherical Diameter (ESD) $um$', fontsize=12 )\n",
    "plt.ylabel('Particles /$mL$', fontsize=12)\n",
    "plt.title('Particle Size Distribution (PSD)', fontsize=20)\n",
    "plt.text(20,10000,'n = %s \\ny = %s$x^{%s}$ '%(TP, intercept, slope), fontsize = 12)\n",
    "plt.yscale('log')\n",
    "plt.xscale('log')\n",
    "plt.axis([1,100,10,100000])\n",
    "plt.savefig(path+'plot')\n",
    "plt.show()"
   ]
  },
  {
   "cell_type": "code",
   "execution_count": 173,
   "metadata": {
    "collapsed": false
   },
   "outputs": [],
   "source": [
    "# add slope and intercept for power eqution, and total particle counts to main data file \n",
    "df.head()\n",
    "df['Intercept'] = maxmin['x'][0]\n",
    "df['Slope'] = maxmin['x'][1]\n",
    "df['Total']= TP"
   ]
  },
  {
   "cell_type": "code",
   "execution_count": 174,
   "metadata": {
    "collapsed": false
   },
   "outputs": [
    {
     "data": {
      "text/html": [
       "<div>\n",
       "<table border=\"1\" class=\"dataframe\">\n",
       "  <thead>\n",
       "    <tr style=\"text-align: right;\">\n",
       "      <th></th>\n",
       "      <th>Unnamed: 0</th>\n",
       "      <th>Area</th>\n",
       "      <th>Mean</th>\n",
       "      <th>Min</th>\n",
       "      <th>Max</th>\n",
       "      <th>Intercept</th>\n",
       "      <th>Slope</th>\n",
       "      <th>Total</th>\n",
       "    </tr>\n",
       "  </thead>\n",
       "  <tbody>\n",
       "    <tr>\n",
       "      <th>0</th>\n",
       "      <td>0</td>\n",
       "      <td>28.113</td>\n",
       "      <td>255</td>\n",
       "      <td>255</td>\n",
       "      <td>255</td>\n",
       "      <td>5.573035</td>\n",
       "      <td>-2.406454</td>\n",
       "      <td>228</td>\n",
       "    </tr>\n",
       "    <tr>\n",
       "      <th>1</th>\n",
       "      <td>1</td>\n",
       "      <td>1.041</td>\n",
       "      <td>255</td>\n",
       "      <td>255</td>\n",
       "      <td>255</td>\n",
       "      <td>5.573035</td>\n",
       "      <td>-2.406454</td>\n",
       "      <td>228</td>\n",
       "    </tr>\n",
       "    <tr>\n",
       "      <th>2</th>\n",
       "      <td>2</td>\n",
       "      <td>9.371</td>\n",
       "      <td>255</td>\n",
       "      <td>255</td>\n",
       "      <td>255</td>\n",
       "      <td>5.573035</td>\n",
       "      <td>-2.406454</td>\n",
       "      <td>228</td>\n",
       "    </tr>\n",
       "    <tr>\n",
       "      <th>3</th>\n",
       "      <td>3</td>\n",
       "      <td>4.165</td>\n",
       "      <td>255</td>\n",
       "      <td>255</td>\n",
       "      <td>255</td>\n",
       "      <td>5.573035</td>\n",
       "      <td>-2.406454</td>\n",
       "      <td>228</td>\n",
       "    </tr>\n",
       "    <tr>\n",
       "      <th>4</th>\n",
       "      <td>4</td>\n",
       "      <td>1521.241</td>\n",
       "      <td>255</td>\n",
       "      <td>255</td>\n",
       "      <td>255</td>\n",
       "      <td>5.573035</td>\n",
       "      <td>-2.406454</td>\n",
       "      <td>228</td>\n",
       "    </tr>\n",
       "  </tbody>\n",
       "</table>\n",
       "</div>"
      ],
      "text/plain": [
       "   Unnamed: 0      Area  Mean  Min  Max  Intercept     Slope  Total\n",
       "0           0    28.113   255  255  255   5.573035 -2.406454    228\n",
       "1           1     1.041   255  255  255   5.573035 -2.406454    228\n",
       "2           2     9.371   255  255  255   5.573035 -2.406454    228\n",
       "3           3     4.165   255  255  255   5.573035 -2.406454    228\n",
       "4           4  1521.241   255  255  255   5.573035 -2.406454    228"
      ]
     },
     "execution_count": 174,
     "metadata": {},
     "output_type": "execute_result"
    }
   ],
   "source": [
    "df.head()\n"
   ]
  },
  {
   "cell_type": "code",
   "execution_count": 175,
   "metadata": {
    "collapsed": false
   },
   "outputs": [],
   "source": [
    "df.to_csv(path+'/total_particles.csv')\n"
   ]
  },
  {
   "cell_type": "code",
   "execution_count": 42,
   "metadata": {
    "collapsed": false
   },
   "outputs": [],
   "source": [
    "a = [('sample',path[-4:-1])]"
   ]
  },
  {
   "cell_type": "code",
   "execution_count": 43,
   "metadata": {
    "collapsed": false
   },
   "outputs": [
    {
     "name": "stdout",
     "output_type": "stream",
     "text": [
      "[('sample', '293')]\n"
     ]
    }
   ],
   "source": [
    "print(a)"
   ]
  },
  {
   "cell_type": "code",
   "execution_count": 44,
   "metadata": {
    "collapsed": false
   },
   "outputs": [
    {
     "ename": "TypeError",
     "evalue": "a bytes-like object is required, not 'str'",
     "output_type": "error",
     "traceback": [
      "\u001b[0;31m---------------------------------------------------------------------------\u001b[0m",
      "\u001b[0;31mTypeError\u001b[0m                                 Traceback (most recent call last)",
      "\u001b[0;32m<ipython-input-44-4dcd649e1cb7>\u001b[0m in \u001b[0;36m<module>\u001b[0;34m()\u001b[0m\n\u001b[1;32m      2\u001b[0m     filewriter = csv.writer(csvfile, delimiter=',',\n\u001b[1;32m      3\u001b[0m                             quotechar='|', quoting=csv.QUOTE_MINIMAL)\n\u001b[0;32m----> 4\u001b[0;31m     \u001b[0mfilewriter\u001b[0m\u001b[1;33m.\u001b[0m\u001b[0mwriterow\u001b[0m\u001b[1;33m(\u001b[0m\u001b[1;33m[\u001b[0m\u001b[1;34m'sample'\u001b[0m\u001b[1;33m,\u001b[0m \u001b[1;34m'Profession'\u001b[0m\u001b[1;33m]\u001b[0m\u001b[1;33m)\u001b[0m\u001b[1;33m\u001b[0m\u001b[0m\n\u001b[0m",
      "\u001b[0;31mTypeError\u001b[0m: a bytes-like object is required, not 'str'"
     ]
    }
   ],
   "source": [
    "# not sure what I was doing here \n",
    "\n",
    "with open('slope_intercept', 'wb') as csvfile:  \n",
    "    filewriter = csv.writer(csvfile, delimiter=',',\n",
    "                            quotechar='|', quoting=csv.QUOTE_MINIMAL)\n",
    "    filewriter.writerow(['sample', 'Profession'])"
   ]
  },
  {
   "cell_type": "code",
   "execution_count": null,
   "metadata": {
    "collapsed": true
   },
   "outputs": [],
   "source": []
  }
 ],
 "metadata": {
  "kernelspec": {
   "display_name": "Python 3",
   "language": "python",
   "name": "python3"
  },
  "language_info": {
   "codemirror_mode": {
    "name": "ipython",
    "version": 3
   },
   "file_extension": ".py",
   "mimetype": "text/x-python",
   "name": "python",
   "nbconvert_exporter": "python",
   "pygments_lexer": "ipython3",
   "version": "3.6.0"
  }
 },
 "nbformat": 4,
 "nbformat_minor": 2
}
